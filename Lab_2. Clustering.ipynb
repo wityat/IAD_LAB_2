{
 "cells": [
  {
   "cell_type": "markdown",
   "metadata": {},
   "source": [
    "# <center> Майнор \"Интеллектуальный анализ данных\" </center>"
   ]
  },
  {
   "cell_type": "markdown",
   "metadata": {},
   "source": [
    "# <center> Курс \"Введение в анализ данных\" </center>"
   ]
  },
  {
   "cell_type": "markdown",
   "metadata": {},
   "source": [
    "# <center> Лабораторная работа №2. Кластерный анализ. </center>"
   ]
  },
  {
   "cell_type": "markdown",
   "metadata": {},
   "source": [
    "# Часть 1"
   ]
  },
  {
   "cell_type": "markdown",
   "metadata": {},
   "source": [
    "В данном задании вам необходимо **самостоятельно** реализовать один из алгоритмов кластеризации.  \n",
    "По аналогии с классами в scikit-learn, нужно реализовать класс, наследуемый от [Base Estimator](https://scikit-learn.org/stable/modules/generated/sklearn.base.BaseEstimator.html).  \n",
    "Подробнее про реализацию своих моделей в scikit-learn: [here](https://scikit-learn.org/stable/developers/develop.html#rolling-your-own-estimator).  \n",
    "В классе помимо `__init__()` нужно реализовать два метода:\n",
    " - `fit()` - метод, выполняющий кластеризацию данных.\n",
    " - `predict()` - метод, определяющий для нового объекта, к какому из кластеров он относится. \n",
    " \n",
    "Для удобства можно создавать дополнительные методы класса, которые будут вызываться в `fit()` или `predict()`.  <br>\n",
    "Функции для вычисления расстояний *между объектами* самим реализовывать не нужно, используйте реализации из `scipy`."
   ]
  },
  {
   "cell_type": "code",
   "execution_count": 3,
   "metadata": {},
   "outputs": [],
   "source": [
    "from sklearn.base import BaseEstimator, ClusterMixin\n",
    "from scipy.spatial import distance\n",
    "\n",
    "class My_Clust(BaseEstimator, ClusterMixin):\n",
    "    \"\"\"\n",
    "    My implementation of clustering algorithm  \n",
    "    \"\"\"\n",
    "    \n",
    "    def __init__(self, metric, linkage, n_clusters=None, **kwargs):\n",
    "        \"\"\"\n",
    "        Please add necessary algoritm parameters to class constructor.\n",
    "        \"\"\"\n",
    "        # Your code here\n",
    "\n",
    "        \n",
    "    def fit(self, X):\n",
    "        \"\"\"\n",
    "        Use data matrix X to compute model parameters\n",
    "        \"\"\"\n",
    "        # Your code here\n",
    "    \n",
    "    def predict(self, X):\n",
    "        \"\"\"\n",
    "        Using computed model parameters predict cluster\n",
    "        for all objects from matrix X\n",
    "        \"\"\"\n",
    "        # Your code here\n",
    "        \n",
    "        return new_labels\n",
    "    "
   ]
  },
  {
   "cell_type": "markdown",
   "metadata": {},
   "source": [
    "### Вариант №1  "
   ]
  },
  {
   "cell_type": "markdown",
   "metadata": {},
   "source": [
    "Алгоритм агломеративной кластеризации.  \n",
    "  \n",
    "Параметры: \n",
    "- **metric:** Функция расстояния между объектами. Должны поддерживаться метрики из `scipy.spatial.distance`, самописные функции (callable) и предрассчитанная матрица расстояний.  \n",
    "- **linkage:** Расстояние между кластерами. Должны поддерживаться Single, Complete и Average.  \n",
    "- **n_clusters:** Число кластеров. По умолчанию должно быть None. \n",
    "\n",
    "  \n",
    "Атрибуты:  \n",
    "- **z_:** матрица объединений, аналогичная той, что возвращает `linkage()` из `scipy.cluster.hierarchy`;\n",
    "- **data_:** копия данных, использованных для кластеризации;  \n",
    "- **labels_:** метки кластеров для каждого объекта.   \n",
    "  \n",
    "Дополнительно нужно реализовать метод `get_labels()` для вычисления **labels_**, он должен быть аналогичен [fcluster()](https://docs.scipy.org/doc/scipy/reference/generated/scipy.cluster.hierarchy.fcluster.html). <br>\n",
    "В случае, если **n_clusters** не None, то после вычисления матрицы **z_** в методе `fit()` должен быть вызван `get_labels()` с соответствующими параметрами, и вычислены **labels_**. В других случаях метод `fit()` только вычисляет матрицу **z_**, для вычисления **labels_** нужно явно вызывать `get_labels()`. \n",
    "  \n",
    "Метод `predict()`:  Кластер для нового объекта определяется по методу, заданному в **linkage**.  <br>\n",
    "**Note:** Метод `predict()` не выполняется в случае, когда **metric** - это матрица расстояний."
   ]
  },
  {
   "cell_type": "markdown",
   "metadata": {},
   "source": [
    "### Вариант №2"
   ]
  },
  {
   "cell_type": "markdown",
   "metadata": {},
   "source": [
    "Алгоритм Dbscan.  \n",
    "  \n",
    "Параметры: \n",
    "- **eps:** радиус окрестности $\\varepsilon$;  \n",
    "- **min_samples:** минимальное число объектов в окрестности $\\varepsilon$ для основных точек;  \n",
    "- **metric:** функция расстояния между объектами. Должны поддерживаться метрики из `scipy.spatial.distance`, самописные функции (callable) и предрассчитанная матрица расстояний.   \n",
    "- **metric_params:** параметры функции расстояния, если такие есть. \n",
    "  \n",
    "Атрибуты:  \n",
    "- **core\\_sample\\_coords\\_:** - векторы основных точек;\n",
    "- **labels_:** метки кластеров для каждого объекта.\n",
    "  \n",
    "Метод `predict()`:  Для нового объекта вычисляется число основных точек из каждого кластера, попавших в окрестность $\\varepsilon$. Объект определяется в кластер с наибольшим числом таких точек.  \n",
    "**Note:** Метод `predict()` не выполняется в случае, когда **metric** - это матрица расстояний. "
   ]
  },
  {
   "cell_type": "markdown",
   "metadata": {},
   "source": [
    "### Вариант №3"
   ]
  },
  {
   "cell_type": "markdown",
   "metadata": {},
   "source": [
    "Алгоритм K-Means.  \n",
    "  \n",
    "Параметры: \n",
    "- **k:** число центров (кластеров);\n",
    "- **init**: метод инициализации центров - random или kmeans++;\n",
    "- **n_init**: число запусков алгоритма;\n",
    "- **max_iter:** максимальное число итераций;  \n",
    "- **tol:** минимальное значение изменения целевой функции.  \n",
    "  \n",
    "Атрибуты:  \n",
    "- **inertia_:** Итоговое значение целевой функции;\n",
    "- **cluster\\_centers\\_:** центры кластеров - ndarray of shape (n_clusters, n_features);\n",
    "- **labels_:** метки кластеров для каждого объекта.  \n",
    "  \n",
    "Метод `predict()`:  Новый объект определяется в кластер, центр которого расположен ближе всех к этому объекту. "
   ]
  },
  {
   "cell_type": "markdown",
   "metadata": {},
   "source": [
    "### Тестирование "
   ]
  },
  {
   "cell_type": "markdown",
   "metadata": {},
   "source": [
    "Вашу реализацию необходимо сравнить с питоновской реализацией алгоритма из `sklearn` или `scipy`. Результаты кластеризации должны совпадать.  \n",
    "Также необходимо сравнить скорость работы вашей реализации и питоновской (это нормально, если ваша реализация будет медленнее).  \n",
    "Сравнение необходимо выполнить на наборе данных iris."
   ]
  },
  {
   "cell_type": "code",
   "execution_count": 2,
   "metadata": {},
   "outputs": [
    {
     "ename": "ModuleNotFoundError",
     "evalue": "No module named 'pandas'",
     "output_type": "error",
     "traceback": [
      "\u001B[1;31m---------------------------------------------------------------------------\u001B[0m",
      "\u001B[1;31mModuleNotFoundError\u001B[0m                       Traceback (most recent call last)",
      "\u001B[1;32m<ipython-input-2-dde261442f2f>\u001B[0m in \u001B[0;36m<module>\u001B[1;34m\u001B[0m\n\u001B[0;32m      1\u001B[0m \u001B[1;32mimport\u001B[0m \u001B[0mnumpy\u001B[0m \u001B[1;32mas\u001B[0m \u001B[0mnp\u001B[0m\u001B[1;33m\u001B[0m\u001B[1;33m\u001B[0m\u001B[0m\n\u001B[1;32m----> 2\u001B[1;33m \u001B[1;32mimport\u001B[0m \u001B[0mpandas\u001B[0m \u001B[1;32mas\u001B[0m \u001B[0mpd\u001B[0m\u001B[1;33m\u001B[0m\u001B[1;33m\u001B[0m\u001B[0m\n\u001B[0m\u001B[0;32m      3\u001B[0m \u001B[1;32mfrom\u001B[0m \u001B[0msklearn\u001B[0m\u001B[1;33m.\u001B[0m\u001B[0mdatasets\u001B[0m \u001B[1;32mimport\u001B[0m \u001B[0mload_iris\u001B[0m\u001B[1;33m\u001B[0m\u001B[1;33m\u001B[0m\u001B[0m\n\u001B[0;32m      4\u001B[0m \u001B[1;32mimport\u001B[0m \u001B[0mmatplotlib\u001B[0m\u001B[1;33m.\u001B[0m\u001B[0mpyplot\u001B[0m \u001B[1;32mas\u001B[0m \u001B[0mplt\u001B[0m\u001B[1;33m\u001B[0m\u001B[1;33m\u001B[0m\u001B[0m\n\u001B[0;32m      5\u001B[0m \u001B[1;32mimport\u001B[0m \u001B[0mseaborn\u001B[0m \u001B[1;32mas\u001B[0m \u001B[0msns\u001B[0m\u001B[1;33m\u001B[0m\u001B[1;33m\u001B[0m\u001B[0m\n",
      "\u001B[1;31mModuleNotFoundError\u001B[0m: No module named 'pandas'"
     ]
    }
   ],
   "source": [
    "import numpy as np\n",
    "import pandas as pd\n",
    "from sklearn.datasets import load_iris\n",
    "import matplotlib.pyplot as plt\n",
    "import seaborn as sns"
   ]
  },
  {
   "cell_type": "code",
   "execution_count": null,
   "metadata": {},
   "outputs": [],
   "source": [
    "iris = load_iris()\n",
    "X = iris.data # использовать для кластеризации\n",
    "y = iris.target # истинные метки цветков"
   ]
  },
  {
   "cell_type": "code",
   "execution_count": null,
   "metadata": {},
   "outputs": [],
   "source": [
    "X = pd.DataFrame(X, columns=iris.feature_names)\n",
    "X['class'] = [iris.target_names[i] for i in y]"
   ]
  },
  {
   "cell_type": "code",
   "execution_count": null,
   "metadata": {},
   "outputs": [],
   "source": [
    "sns.pairplot(X, hue='class', plot_kws={'alpha':0.5}, vars=iris.feature_names)\n",
    "plt.show()"
   ]
  },
  {
   "cell_type": "markdown",
   "metadata": {},
   "source": [
    "### Бонусное  \n",
    "  \n",
    "Дополнительно вы можете поработать над эффективностью алгоритма по скорости и памяти, добавить поддержку многопоточности, или расширить базовый функционал."
   ]
  },
  {
   "cell_type": "markdown",
   "metadata": {},
   "source": [
    "### Распределение по вариантам"
   ]
  },
  {
   "cell_type": "code",
   "execution_count": null,
   "metadata": {},
   "outputs": [],
   "source": [
    "pd.set_option('display.max_rows', 50)"
   ]
  },
  {
   "cell_type": "code",
   "execution_count": null,
   "metadata": {
    "scrolled": false
   },
   "outputs": [],
   "source": [
    "Vars = pd.read_csv('Vars.txt', sep='\\t')"
   ]
  },
  {
   "cell_type": "markdown",
   "metadata": {},
   "source": [
    "#### Вариант №1"
   ]
  },
  {
   "cell_type": "code",
   "execution_count": null,
   "metadata": {},
   "outputs": [],
   "source": [
    "Vars[Vars.iloc[:,2] == 1]"
   ]
  },
  {
   "cell_type": "markdown",
   "metadata": {},
   "source": [
    "#### Вариант №2"
   ]
  },
  {
   "cell_type": "code",
   "execution_count": null,
   "metadata": {},
   "outputs": [],
   "source": [
    "Vars[Vars.iloc[:,2] == 2]"
   ]
  },
  {
   "cell_type": "markdown",
   "metadata": {},
   "source": [
    "#### Вариант №3"
   ]
  },
  {
   "cell_type": "code",
   "execution_count": null,
   "metadata": {},
   "outputs": [],
   "source": [
    "Vars[Vars.iloc[:,2] == 3]"
   ]
  },
  {
   "cell_type": "markdown",
   "metadata": {},
   "source": [
    "# Часть 2"
   ]
  },
  {
   "cell_type": "markdown",
   "metadata": {},
   "source": [
    "В данном задании вам предлагается проанализировать набор данных по различным городам США. Каждый город характеризуется следующими признаками:"
   ]
  },
  {
   "cell_type": "code",
   "execution_count": null,
   "metadata": {},
   "outputs": [],
   "source": [
    "pd.set_option('display.max_colwidth', None)"
   ]
  },
  {
   "cell_type": "code",
   "execution_count": null,
   "metadata": {},
   "outputs": [],
   "source": [
    "data_desc = pd.read_csv('Data_Description.txt', sep=':')\n",
    "data_desc"
   ]
  },
  {
   "cell_type": "markdown",
   "metadata": {},
   "source": [
    "### Notes:   \n",
    "* Для всех признаков, кроме трех, чем выше значение - тем лучше. Для признаков `Housing` и `Crime` - наоборот.\n",
    "* Признак `Population`- статистический признак, не имеющий интерпретации как “лучше-хуже”.\n",
    "* Признак `Place` - уникальный идентификатор объекта (города), он не должен использоваться при кластеризации.\n",
    "* Также в данных присутствуют географические координаты городов - `Longitude` и `Latitude`. Их также не следует использовать при кластеризации данных."
   ]
  },
  {
   "cell_type": "code",
   "execution_count": null,
   "metadata": {},
   "outputs": [],
   "source": [
    "data = pd.read_csv('Data.txt', sep=' ')\n",
    "data"
   ]
  },
  {
   "cell_type": "markdown",
   "metadata": {},
   "source": [
    "<br>  \n",
    "  \n",
    "## Задания: "
   ]
  },
  {
   "cell_type": "markdown",
   "metadata": {},
   "source": [
    "1. Выполните необходимую предобработку данных. Перед кластеризацией исключите из данных признаки `Place`, `Long` и `Lat`.  \n",
    "  \n",
    "  \n",
    "2. Выполните кластеризацию иерархическим методом.  \n",
    "Рассмотрите различные расстояния между объектами. Определите, какие следует использовать при кластеризации.  \n",
    "Выполните кластеризацию с различными расстояниями между кластерами. Сравните результаты, сделайте выводы. \n",
    "  \n",
    "  \n",
    "3. Выполните кластеризацию методом Dbscan. Используйте расстояния между объектами, определенные в предыдущем пункте.  \n",
    "Реализуйте эвристику (см. лекции) для выбора параметров алгоритма. Подберите подходящие параметры алгоритма.  \n",
    "  \n",
    "  \n",
    "4. Выполните кластеризацию методом kmeans. Определите наилучшее (на ваш взгляд) число кластеров.  \n",
    "  \n",
    "  \n",
    "5. (Бонусное) Выполните кластеризацию другими методами. Например, [HDBSCAN](https://hdbscan.readthedocs.io/en/latest/) или алгоритмы, [реализованные](https://scikit-learn.org/stable/modules/clustering.html) в scikit-learn.  \n",
    "  \n",
    "  \n",
    "6. В результате выполнения предыдущих пунктов вы должны получить 4 или больше разбиений объектов (по одному на каждый метод). Сравните их между собой, сделайте выводы о сходствах и различиях.  \n",
    "Оцените результаты каждой кластеризации, используя метрики, рассмотренные на занятиях (Silhouette и прочие).  \n",
    "  \n",
    "  \n",
    "7. Выберите одно разбиение, наиболее подходящее на ваш взгляд. Предложите интерпретацию полученным кластерам или покажите, что этого сделать нельзя.  \n",
    "  \n",
    "  \n",
    "8. Оцените, как полученные кластеры распределены географически.  \n",
    "Оцените, как полученные кластеры распределены по штатам. Можно ли выделить какую-то зависимость (территориальную или для штатов)?  \n",
    "(Бонусное) [Провизуализируйте](https://python-visualization.github.io/folium/quickstart.html) распределение на карте США."
   ]
  }
 ],
 "metadata": {
  "kernelspec": {
   "display_name": "Python 3",
   "language": "python",
   "name": "python3"
  },
  "language_info": {
   "codemirror_mode": {
    "name": "ipython",
    "version": 3
   },
   "file_extension": ".py",
   "mimetype": "text/x-python",
   "name": "python",
   "nbconvert_exporter": "python",
   "pygments_lexer": "ipython3",
   "version": "3.9.4"
  }
 },
 "nbformat": 4,
 "nbformat_minor": 4
}